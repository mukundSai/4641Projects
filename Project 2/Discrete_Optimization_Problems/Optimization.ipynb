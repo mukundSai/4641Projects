{
 "cells": [
  {
   "cell_type": "code",
   "execution_count": 1,
   "metadata": {},
   "outputs": [],
   "source": [
    "import mlrose\n",
    "import random\n",
    "import numpy as np\n",
    "import time\n",
    "import pandas as pd"
   ]
  },
  {
   "cell_type": "markdown",
   "metadata": {},
   "source": [
    "# Functions"
   ]
  },
  {
   "cell_type": "code",
   "execution_count": 2,
   "metadata": {},
   "outputs": [],
   "source": [
    "def random_hill_climb(problem, max_attempts=10, max_iters=np.inf, restarts=0,\n",
    "                      init_state=None):\n",
    "    \"\"\"Use randomized hill climbing to find the optimum for a given\n",
    "    optimization problem.\n",
    "    Parameters\n",
    "    ----------\n",
    "    problem: optimization object\n",
    "        Object containing fitness function optimization problem to be solved.\n",
    "        For example, :code:`DiscreteOpt()`, :code:`ContinuousOpt()` or\n",
    "        :code:`TSPOpt()`.\n",
    "    max_attempts: int, default: 10\n",
    "        Maximum number of attempts to find a better neighbor at each step.\n",
    "    max_iters: int, default: np.inf\n",
    "        Maximum number of iterations of the algorithm.\n",
    "    restarts: int, default: 0\n",
    "        Number of random restarts.\n",
    "    init_state: array, default: None\n",
    "        1-D Numpy array containing starting state for algorithm.\n",
    "        If :code:`None`, then a random state is used.\n",
    "    Returns\n",
    "    -------\n",
    "    best_state: array\n",
    "        Numpy array containing state that optimizes the fitness function.\n",
    "    best_fitness: float\n",
    "        Value of fitness function at best state.\n",
    "    References\n",
    "    ----------\n",
    "    Brownlee, J (2011). *Clever Algorithms: Nature-Inspired Programming\n",
    "    Recipes*. `<http://www.cleveralgorithms.com>`_.\n",
    "    \"\"\"\n",
    "    if (not isinstance(max_attempts, int) and not max_attempts.is_integer()) \\\n",
    "       or (max_attempts < 0):\n",
    "        raise Exception(\"\"\"max_attempts must be a positive integer.\"\"\")\n",
    "\n",
    "    if (not isinstance(max_iters, int) and max_iters != np.inf\n",
    "            and not max_iters.is_integer()) or (max_iters < 0):\n",
    "        raise Exception(\"\"\"max_iters must be a positive integer.\"\"\")\n",
    "\n",
    "    if (not isinstance(restarts, int) and not restarts.is_integer()) \\\n",
    "       or (restarts < 0):\n",
    "        raise Exception(\"\"\"restarts must be a positive integer.\"\"\")\n",
    "\n",
    "    if init_state is not None and len(init_state) != problem.get_length():\n",
    "        raise Exception(\"\"\"init_state must have same length as problem.\"\"\")\n",
    "\n",
    "    best_fitness = -1*np.inf\n",
    "    best_state = None\n",
    "\n",
    "    best_iteration_data = []\n",
    "    \n",
    "    for _ in range(restarts + 1):\n",
    "        # Initialize optimization problem and attempts counter\n",
    "        if init_state is None:\n",
    "            problem.reset()\n",
    "        else:\n",
    "            problem.set_state(init_state)\n",
    "\n",
    "        attempts = 0\n",
    "        iters = 0\n",
    "\n",
    "        iteration_data = []\n",
    "        while (attempts < max_attempts) and (iters < max_iters):\n",
    "            iters += 1\n",
    "\n",
    "            # Find random neighbor and evaluate fitness\n",
    "            next_state = problem.random_neighbor()\n",
    "            next_fitness = problem.eval_fitness(next_state)\n",
    "\n",
    "            # If best neighbor is an improvement,\n",
    "            # move to that state and reset attempts counter\n",
    "            if next_fitness > problem.get_fitness():\n",
    "                problem.set_state(next_state)\n",
    "                attempts = 0\n",
    "\n",
    "            else:\n",
    "                attempts += 1\n",
    "            \n",
    "            iteration_data.append((iters, problem.get_fitness()))\n",
    "            \n",
    "        # Update best state and best fitness\n",
    "        if problem.get_fitness() > best_fitness:\n",
    "            best_fitness = problem.get_fitness()\n",
    "            best_state = problem.get_state()\n",
    "            \n",
    "            best_iteration_data = iteration_data\n",
    "\n",
    "    best_fitness = problem.get_maximize()*best_fitness\n",
    "    return best_state, best_fitness, best_iteration_data"
   ]
  },
  {
   "cell_type": "code",
   "execution_count": 3,
   "metadata": {},
   "outputs": [],
   "source": [
    "from mlrose.decay import GeomDecay\n",
    "def simulated_annealing(problem, schedule=GeomDecay(), max_attempts=10,\n",
    "                        max_iters=np.inf, init_state=None):\n",
    "    \"\"\"Use simulated annealing to find the optimum for a given\n",
    "    optimization problem.\n",
    "    Parameters\n",
    "    ----------\n",
    "    problem: optimization object\n",
    "        Object containing fitness function optimization problem to be solved.\n",
    "        For example, :code:`DiscreteOpt()`, :code:`ContinuousOpt()` or\n",
    "        :code:`TSPOpt()`.\n",
    "    schedule: schedule object, default: :code:`mlrose.GeomDecay()`\n",
    "        Schedule used to determine the value of the temperature parameter.\n",
    "    max_attempts: int, default: 10\n",
    "        Maximum number of attempts to find a better neighbor at each step.\n",
    "    max_iters: int, default: np.inf\n",
    "        Maximum number of iterations of the algorithm.\n",
    "    init_state: array, default: None\n",
    "        1-D Numpy array containing starting state for algorithm.\n",
    "        If :code:`None`, then a random state is used.\n",
    "    Returns\n",
    "    -------\n",
    "    best_state: array\n",
    "        Numpy array containing state that optimizes the fitness function.\n",
    "    best_fitness: float\n",
    "        Value of fitness function at best state.\n",
    "    References\n",
    "    ----------\n",
    "    Russell, S. and P. Norvig (2010). *Artificial Intelligence: A Modern\n",
    "    Approach*, 3rd edition. Prentice Hall, New Jersey, USA.\n",
    "    \"\"\"\n",
    "    if (not isinstance(max_attempts, int) and not max_attempts.is_integer()) \\\n",
    "       or (max_attempts < 0):\n",
    "        raise Exception(\"\"\"max_attempts must be a positive integer.\"\"\")\n",
    "\n",
    "    if (not isinstance(max_iters, int) and max_iters != np.inf\n",
    "            and not max_iters.is_integer()) or (max_iters < 0):\n",
    "        raise Exception(\"\"\"max_iters must be a positive integer.\"\"\")\n",
    "\n",
    "    if init_state is not None and len(init_state) != problem.get_length():\n",
    "        raise Exception(\"\"\"init_state must have same length as problem.\"\"\")\n",
    "\n",
    "    # Initialize problem, time and attempts counter\n",
    "    if init_state is None:\n",
    "        problem.reset()\n",
    "    else:\n",
    "        problem.set_state(init_state)\n",
    "\n",
    "    attempts = 0\n",
    "    iters = 0\n",
    "    \n",
    "    iteration_data = []\n",
    "    while (attempts < max_attempts) and (iters < max_iters):\n",
    "        temp = schedule.evaluate(iters)\n",
    "        iters += 1\n",
    "\n",
    "        if temp == 0:\n",
    "            break\n",
    "\n",
    "        else:\n",
    "            # Find random neighbor and evaluate fitness\n",
    "            next_state = problem.random_neighbor()\n",
    "            next_fitness = problem.eval_fitness(next_state)\n",
    "\n",
    "            # Calculate delta E and change prob\n",
    "            delta_e = next_fitness - problem.get_fitness()\n",
    "            prob = np.exp(delta_e/temp)\n",
    "\n",
    "            # If best neighbor is an improvement or random value is less\n",
    "            # than prob, move to that state and reset attempts counter\n",
    "            if (delta_e > 0) or (np.random.uniform() < prob):\n",
    "                problem.set_state(next_state)\n",
    "                attempts = 0\n",
    "\n",
    "            else:\n",
    "                attempts += 1\n",
    "        iteration_data.append((iters, problem.get_fitness()))\n",
    "        \n",
    "    best_fitness = problem.get_maximize()*problem.get_fitness()\n",
    "    best_state = problem.get_state()\n",
    "\n",
    "    return best_state, best_fitness, iteration_data"
   ]
  },
  {
   "cell_type": "code",
   "execution_count": 4,
   "metadata": {},
   "outputs": [],
   "source": [
    "def genetic_alg(problem, pop_size=200, mutation_prob=0.1, max_attempts=10,\n",
    "                max_iters=np.inf):\n",
    "    \"\"\"Use a standard genetic algorithm to find the optimum for a given\n",
    "    optimization problem.\n",
    "    Parameters\n",
    "    ----------\n",
    "    problem: optimization object\n",
    "        Object containing fitness function optimization problem to be solved.\n",
    "        For example, :code:`DiscreteOpt()`, :code:`ContinuousOpt()` or\n",
    "        :code:`TSPOpt()`.\n",
    "    pop_size: int, default: 200\n",
    "        Size of population to be used in genetic algorithm.\n",
    "    mutation_prob: float, default: 0.1\n",
    "        Probability of a mutation at each element of the state vector\n",
    "        during reproduction, expressed as a value between 0 and 1.\n",
    "    max_attempts: int, default: 10\n",
    "        Maximum number of attempts to find a better state at each step.\n",
    "    max_iters: int, default: np.inf\n",
    "        Maximum number of iterations of the algorithm.\n",
    "    Returns\n",
    "    -------\n",
    "    best_state: array\n",
    "        Numpy array containing state that optimizes the fitness function.\n",
    "    best_fitness: float\n",
    "        Value of fitness function at best state.\n",
    "    References\n",
    "    ----------\n",
    "    Russell, S. and P. Norvig (2010). *Artificial Intelligence: A Modern\n",
    "    Approach*, 3rd edition. Prentice Hall, New Jersey, USA.\n",
    "    \"\"\"\n",
    "    if pop_size < 0:\n",
    "        raise Exception(\"\"\"pop_size must be a positive integer.\"\"\")\n",
    "    elif not isinstance(pop_size, int):\n",
    "        if pop_size.is_integer():\n",
    "            pop_size = int(pop_size)\n",
    "        else:\n",
    "            raise Exception(\"\"\"pop_size must be a positive integer.\"\"\")\n",
    "\n",
    "    if (mutation_prob < 0) or (mutation_prob > 1):\n",
    "        raise Exception(\"\"\"mutation_prob must be between 0 and 1.\"\"\")\n",
    "\n",
    "    if (not isinstance(max_attempts, int) and not max_attempts.is_integer()) \\\n",
    "       or (max_attempts < 0):\n",
    "        raise Exception(\"\"\"max_attempts must be a positive integer.\"\"\")\n",
    "\n",
    "    if (not isinstance(max_iters, int) and max_iters != np.inf\n",
    "            and not max_iters.is_integer()) or (max_iters < 0):\n",
    "        raise Exception(\"\"\"max_iters must be a positive integer.\"\"\")\n",
    "\n",
    "    # Initialize problem, population and attempts counter\n",
    "    problem.reset()\n",
    "    problem.random_pop(pop_size)\n",
    "    attempts = 0\n",
    "    iters = 0\n",
    "\n",
    "    iteration_data = []\n",
    "    while (attempts < max_attempts) and (iters < max_iters):\n",
    "        iters += 1\n",
    "\n",
    "        # Calculate breeding probabilities\n",
    "        problem.eval_mate_probs()\n",
    "\n",
    "        # Create next generation of population\n",
    "        next_gen = []\n",
    "\n",
    "        for _ in range(pop_size):\n",
    "            # Select parents\n",
    "            selected = np.random.choice(pop_size, size=2,\n",
    "                                        p=problem.get_mate_probs())\n",
    "            parent_1 = problem.get_population()[selected[0]]\n",
    "            parent_2 = problem.get_population()[selected[1]]\n",
    "\n",
    "            # Create offspring\n",
    "            child = problem.reproduce(parent_1, parent_2, mutation_prob)\n",
    "            next_gen.append(child)\n",
    "\n",
    "        next_gen = np.array(next_gen)\n",
    "        problem.set_population(next_gen)\n",
    "\n",
    "        next_state = problem.best_child()\n",
    "        next_fitness = problem.eval_fitness(next_state)\n",
    "\n",
    "        # If best child is an improvement,\n",
    "        # move to that state and reset attempts counter\n",
    "        if next_fitness > problem.get_fitness():\n",
    "            problem.set_state(next_state)\n",
    "            attempts = 0\n",
    "\n",
    "        else:\n",
    "            attempts += 1\n",
    "            \n",
    "        iteration_data.append((iters, problem.get_fitness()))\n",
    "\n",
    "    best_fitness = problem.get_maximize()*problem.get_fitness()\n",
    "    best_state = problem.get_state()\n",
    "\n",
    "    return best_state, best_fitness, iteration_data"
   ]
  },
  {
   "cell_type": "code",
   "execution_count": 5,
   "metadata": {},
   "outputs": [],
   "source": [
    "def mimic(problem, pop_size=200, keep_pct=0.2, max_attempts=10,\n",
    "          max_iters=np.inf):\n",
    "    \"\"\"Use MIMIC to find the optimum for a given optimization problem.\n",
    "    Parameters\n",
    "    ----------\n",
    "    problem: optimization object\n",
    "        Object containing fitness function optimization problem to be solved.\n",
    "        For example, :code:`DiscreteOpt()` or :code:`TSPOpt()`.\n",
    "    pop_size: int, default: 200\n",
    "        Size of population to be used in algorithm.\n",
    "    keep_pct: float, default: 0.2\n",
    "        Proportion of samples to keep at each iteration of the algorithm,\n",
    "        expressed as a value between 0 and 1.\n",
    "    max_attempts: int, default: 10\n",
    "        Maximum number of attempts to find a better neighbor at each step.\n",
    "    max_iters: int, default: np.inf\n",
    "        Maximum number of iterations of the algorithm.\n",
    "    Returns\n",
    "    -------\n",
    "    best_state: array\n",
    "        Numpy array containing state that optimizes the fitness function.\n",
    "    best_fitness: float\n",
    "        Value of fitness function at best state.\n",
    "    References\n",
    "    ----------\n",
    "    De Bonet, J., C. Isbell, and P. Viola (1997). MIMIC: Finding Optima by\n",
    "    Estimating Probability Densities. In *Advances in Neural Information\n",
    "    Processing Systems* (NIPS) 9, pp. 424–430.\n",
    "    Note\n",
    "    ----\n",
    "    MIMIC cannot be used for solving continuous-state optimization problems.\n",
    "    \"\"\"\n",
    "    if problem.get_prob_type() == 'continuous':\n",
    "        raise Exception(\"\"\"problem type must be discrete or tsp.\"\"\")\n",
    "\n",
    "    if pop_size < 0:\n",
    "        raise Exception(\"\"\"pop_size must be a positive integer.\"\"\")\n",
    "    elif not isinstance(pop_size, int):\n",
    "        if pop_size.is_integer():\n",
    "            pop_size = int(pop_size)\n",
    "        else:\n",
    "            raise Exception(\"\"\"pop_size must be a positive integer.\"\"\")\n",
    "\n",
    "    if (keep_pct < 0) or (keep_pct > 1):\n",
    "        raise Exception(\"\"\"keep_pct must be between 0 and 1.\"\"\")\n",
    "\n",
    "    if (not isinstance(max_attempts, int) and not max_attempts.is_integer()) \\\n",
    "       or (max_attempts < 0):\n",
    "        raise Exception(\"\"\"max_attempts must be a positive integer.\"\"\")\n",
    "\n",
    "    if (not isinstance(max_iters, int) and max_iters != np.inf\n",
    "            and not max_iters.is_integer()) or (max_iters < 0):\n",
    "        raise Exception(\"\"\"max_iters must be a positive integer.\"\"\")\n",
    "\n",
    "    # Initialize problem, population and attempts counter\n",
    "    problem.reset()\n",
    "    problem.random_pop(pop_size)\n",
    "    attempts = 0\n",
    "    iters = 0\n",
    "\n",
    "    iteration_data = []\n",
    "    while (attempts < max_attempts) and (iters < max_iters):\n",
    "        iters += 1\n",
    "\n",
    "        # Get top n percent of population\n",
    "        problem.find_top_pct(keep_pct)\n",
    "\n",
    "        # Update probability estimates\n",
    "        problem.eval_node_probs()\n",
    "\n",
    "        # Generate new sample\n",
    "        new_sample = problem.sample_pop(pop_size)\n",
    "        problem.set_population(new_sample)\n",
    "\n",
    "        next_state = problem.best_child()\n",
    "\n",
    "        next_fitness = problem.eval_fitness(next_state)\n",
    "\n",
    "        # If best child is an improvement,\n",
    "        # move to that state and reset attempts counter\n",
    "        if next_fitness > problem.get_fitness():\n",
    "            problem.set_state(next_state)\n",
    "            attempts = 0\n",
    "\n",
    "        else:\n",
    "            attempts += 1\n",
    "            \n",
    "        iteration_data.append((iters, problem.get_fitness()))\n",
    "\n",
    "    best_fitness = problem.get_maximize()*problem.get_fitness()\n",
    "    best_state = problem.get_state().astype(int)\n",
    "\n",
    "    return best_state, best_fitness, iteration_data"
   ]
  },
  {
   "cell_type": "markdown",
   "metadata": {},
   "source": [
    "# Flip Flop - Simulated Annealing"
   ]
  },
  {
   "cell_type": "code",
   "execution_count": 6,
   "metadata": {},
   "outputs": [],
   "source": [
    "#defining the fitness function\n",
    "fitness_func = mlrose.FlipFlop()\n",
    "\n",
    "#define the problem\n",
    "problem_fit = mlrose.DiscreteOpt(200, fitness_fn = fitness_func, maximize = True, max_val = 2)"
   ]
  },
  {
   "cell_type": "markdown",
   "metadata": {},
   "source": [
    "<b>Random Hill Climb</b>"
   ]
  },
  {
   "cell_type": "code",
   "execution_count": 7,
   "metadata": {},
   "outputs": [
    {
     "name": "stdout",
     "output_type": "stream",
     "text": [
      "time taken is:\n",
      "0.36264634132385254\n"
     ]
    }
   ],
   "source": [
    "#generate iteration graph\n",
    "\n",
    "current_best_fitness = None\n",
    "\n",
    "\n",
    "startFirst = time.time()\n",
    "bestHillState, bestHillFitness, iteration_data = random_hill_climb(problem_fit, restarts = 50)\n",
    "endFirst = time.time()\n",
    "\n",
    "#save iteration data to a file    \n",
    "iteration_num, fitness = [i[0] for i in iteration_data], [i[1] for i in iteration_data]\n",
    "plotData = [('Iteration Number', iteration_num), ('Fitness', fitness)]\n",
    "df = pd.DataFrame.from_items(plotData)\n",
    "df.to_csv(\"hillClimbingIterationsff.csv\")\n",
    "\n",
    "\n",
    "#generate numrestarts hyperparameter graph\n",
    "restart_data = []\n",
    "for num_restarts in range (0, 51):\n",
    "    new_state, new_fitness = mlrose.random_hill_climb(problem_fit, restarts = num_restarts)\n",
    "    restart_data.append((num_restarts, new_fitness))\n",
    "#save hyperparameter data to a file    \n",
    "num_restarts, fitness = [i[0] for i in restart_data], [i[1] for i in restart_data]\n",
    "plotData = [('Number of Restarts', num_restarts), ('Fitness', fitness)]\n",
    "df = pd.DataFrame.from_items(plotData)\n",
    "df.to_csv(\"hillClimbingNumRestartsff.csv\")\n",
    "\n",
    "#graph for Iterations size vs time\n",
    "time_data = []\n",
    "for numFlipFlop in range(20, 200, 20):\n",
    "    problem_fit_test = mlrose.DiscreteOpt(numFlipFlop, fitness_fn = fitness_func, maximize = True, max_val = 2)\n",
    "    start = time.time()\n",
    "    bestmimicIterationState, bestmimicIterationFitness = mlrose.random_hill_climb(problem_fit_test, restarts = 50)\n",
    "    end = time.time()\n",
    "    time_data.append((numFlipFlop, end-start))\n",
    "numFlipFlop, times = [i[0] for i in time_data], [i[1] for i in time_data]\n",
    "plotData = [('Flip Flop Problem Size', numFlipFlop), ('Time', times)]\n",
    "df = pd.DataFrame.from_items(plotData)\n",
    "df.to_csv(\"hillClimbTimingff.csv\")\n",
    "\n",
    "#print out time taken\n",
    "print(\"time taken is:\")\n",
    "print(endFirst-startFirst)"
   ]
  },
  {
   "cell_type": "markdown",
   "metadata": {},
   "source": [
    "<b>Simulated Annealing</b>"
   ]
  },
  {
   "cell_type": "code",
   "execution_count": 8,
   "metadata": {},
   "outputs": [
    {
     "name": "stdout",
     "output_type": "stream",
     "text": [
      "time taken is:\n",
      "0.1429884433746338\n"
     ]
    }
   ],
   "source": [
    "current_best_fitness = None\n",
    "\n",
    "\n",
    "startFirst = time.time()\n",
    "bestSimulatedState, bestSimulatedFitness, iteration_data = simulated_annealing(problem_fit)\n",
    "endFirst = time.time()\n",
    "\n",
    "#save iteration data to a file    \n",
    "iteration_num, fitness = [i[0] for i in iteration_data], [i[1] for i in iteration_data]\n",
    "plotData = [('Iteration Number', iteration_num), ('Fitness', fitness)]\n",
    "df = pd.DataFrame.from_items(plotData)\n",
    "df.to_csv(\"simulatedAnnealingIterationsff.csv\")\n",
    "\n",
    "#graph for Iterations size vs time\n",
    "time_data = []\n",
    "for numFlipFlop in range(20, 200, 20):\n",
    "    problem_fit_test = mlrose.DiscreteOpt(numFlipFlop, fitness_fn = fitness_func, maximize = True, max_val = 2)\n",
    "    start = time.time()\n",
    "    bestmimicIterationState, bestmimicIterationFitness = mlrose.simulated_annealing(problem_fit_test)\n",
    "    end = time.time()\n",
    "    time_data.append((numFlipFlop, end-start))\n",
    "numFlipFlop, times = [i[0] for i in time_data], [i[1] for i in time_data]\n",
    "plotData = [('Flip Flop Problem Size', numFlipFlop), ('Time', times)]\n",
    "df = pd.DataFrame.from_items(plotData)\n",
    "df.to_csv(\"SimulatedAnnealingTimingff.csv\")\n",
    "\n",
    "\n",
    "#print out time taken\n",
    "print(\"time taken is:\")\n",
    "print(endFirst-startFirst)"
   ]
  },
  {
   "cell_type": "markdown",
   "metadata": {},
   "source": [
    "<b>Genetic Algorithm</b>"
   ]
  },
  {
   "cell_type": "code",
   "execution_count": null,
   "metadata": {},
   "outputs": [
    {
     "name": "stdout",
     "output_type": "stream",
     "text": [
      "time taken is:\n",
      "1.56785249710083\n"
     ]
    }
   ],
   "source": [
    "current_best_fitness = None\n",
    "\n",
    "\n",
    "startFirst = time.time()\n",
    "bestGeneticState, bestGeneticFitness, iteration_data = genetic_alg(problem_fit, pop_size = 200)\n",
    "endFirst = time.time()\n",
    "\n",
    "#save iteration data to a file    \n",
    "iteration_num, fitness = [i[0] for i in iteration_data], [i[1] for i in iteration_data]\n",
    "plotData = [('Iteration Number', iteration_num), ('Fitness', fitness)]\n",
    "df = pd.DataFrame.from_items(plotData)\n",
    "df.to_csv(\"GAIterationsff.csv\")\n",
    "\n",
    "time_data = []\n",
    "#graph for population size vs time\n",
    "for popSize in range(10, 310, 10):\n",
    "    start = time.time()\n",
    "    bestGeneticPopState, bestGeneticPopFitness = mlrose.genetic_alg(problem_fit, pop_size = popSize)\n",
    "    end = time.time()\n",
    "    time_data.append((popSize, bestGeneticPopFitness, end-start))\n",
    "pop_size, fitness, times = [i[0] for i in time_data], [i[1] for i in time_data], [i[2] for i in time_data]\n",
    "plotData = [('Population Size', pop_size), ('Fitness', fitness), ('Time to Converge', times)]\n",
    "df = pd.DataFrame.from_items(plotData)\n",
    "df.to_csv(\"GAHyperParameterff.csv\")\n",
    "    \n",
    "#graph for Iterations size vs time\n",
    "time_data = []\n",
    "for numFlipFlop in range(20, 200, 20):\n",
    "    problem_fit_test = mlrose.DiscreteOpt(numFlipFlop, fitness_fn = fitness_func, maximize = True, max_val = 2)\n",
    "    start = time.time()\n",
    "    bestmimicIterationState, bestmimicIterationFitness = mlrose.genetic_alg(problem_fit_test)\n",
    "    end = time.time()\n",
    "    time_data.append((numFlipFlop, end-start))\n",
    "numFlipFlop, times = [i[0] for i in time_data], [i[1] for i in time_data]\n",
    "plotData = [('Flip Flop Problem Size', numFlipFlop), ('Time', times)]\n",
    "df = pd.DataFrame.from_items(plotData)\n",
    "df.to_csv(\"GATimingff.csv\")    \n",
    "    \n",
    "#print out time taken\n",
    "print(\"time taken is:\")\n",
    "print(endFirst-startFirst)"
   ]
  },
  {
   "cell_type": "markdown",
   "metadata": {},
   "source": [
    "<b>Mimic</b>"
   ]
  },
  {
   "cell_type": "code",
   "execution_count": null,
   "metadata": {},
   "outputs": [],
   "source": [
    "current_best_fitness = None\n",
    "\n",
    "\n",
    "start = time.time()\n",
    "bestSimulatedState, bestSimulatedFitness, iteration_data = mimic(problem_fit, max_iters = 30)\n",
    "end = time.time()\n",
    "\n",
    "#save iteration data to a file    \n",
    "iteration_num, fitness = [i[0] for i in iteration_data], [i[1] for i in iteration_data]\n",
    "plotData = [('Iteration Number', iteration_num), ('Fitness', fitness)]\n",
    "df = pd.DataFrame.from_items(plotData)\n",
    "df.to_csv(\"mimicIterationsff.csv\")\n",
    "\n",
    "\n",
    "#graph for Iterations size vs time\n",
    "time_data = []\n",
    "for numFlipFlop in range(20, 200, 20):\n",
    "    problem_fit_test = mlrose.DiscreteOpt(numFlipFlop, fitness_fn = fitness_func, maximize = True, max_val = 2)\n",
    "    start = time.time()\n",
    "    bestmimicIterationState, bestmimicIterationFitness = mlrose.mimic(problem_fit_test, max_iters = 25)\n",
    "    end = time.time()\n",
    "    time_data.append((numFlipFlop, end-start))\n",
    "numFlipFlop, times = [i[0] for i in time_data], [i[1] for i in time_data]\n",
    "plotData = [('Flip Flop Problem Size', numFlipFlop), ('Time', times)]\n",
    "df = pd.DataFrame.from_items(plotData)\n",
    "df.to_csv(\"MimicTimingff.csv\")\n",
    "\n",
    "#print out time taken\n",
    "print(\"time taken is:\")\n",
    "print(end-start)"
   ]
  },
  {
   "cell_type": "markdown",
   "metadata": {},
   "source": [
    "# Knapsack - Genetic"
   ]
  },
  {
   "cell_type": "code",
   "execution_count": null,
   "metadata": {},
   "outputs": [],
   "source": [
    "#defining the fitness function\n",
    "weights = [random.randint(1, 60) for i in range(50)]\n",
    "values = [random.randint(1, 60) for i in range(50)]\n",
    "max_weight_pct = 0.6\n",
    "fitness_func = mlrose.Knapsack(weights, values, max_weight_pct)\n",
    "\n",
    "#define the problem\n",
    "problem_fit = mlrose.DiscreteOpt(50, fitness_fn = fitness_func, maximize = True, max_val = 3)\n",
    "problem_fit_hillClimb = mlrose.DiscreteOpt(50, fitness_fn = fitness_func, maximize = True, max_val = 2)"
   ]
  },
  {
   "cell_type": "markdown",
   "metadata": {},
   "source": [
    "<b>Random Hill Climb</b>"
   ]
  },
  {
   "cell_type": "code",
   "execution_count": null,
   "metadata": {},
   "outputs": [],
   "source": [
    "#generate iteration graph\n",
    "\n",
    "current_best_fitness = None\n",
    "\n",
    "\n",
    "startFirst = time.time()\n",
    "bestHillState, bestHillFitness, iteration_data = random_hill_climb(problem_fit_hillClimb, restarts = 50)\n",
    "endFirst = time.time()\n",
    "\n",
    "#save iteration data to a file    \n",
    "iteration_num, fitness = [i[0] for i in iteration_data], [i[1] for i in iteration_data]\n",
    "plotData = [('Iteration Number', iteration_num), ('Fitness', fitness)]\n",
    "df = pd.DataFrame.from_items(plotData)\n",
    "df.to_csv(\"hillClimbingIterationskn.csv\")\n",
    "\n",
    "\n",
    "#generate numrestarts hyperparameter graph\n",
    "restart_data = []\n",
    "for num_restarts in range (0, 51):\n",
    "    new_state, new_fitness = mlrose.random_hill_climb(problem_fit_hillClimb, restarts = num_restarts)\n",
    "    restart_data.append((num_restarts, new_fitness))\n",
    "#save hyperparameter data to a file    \n",
    "num_restarts, fitness = [i[0] for i in restart_data], [i[1] for i in restart_data]\n",
    "plotData = [('Number of Restarts', num_restarts), ('Fitness', fitness)]\n",
    "df = pd.DataFrame.from_items(plotData)\n",
    "df.to_csv(\"hillClimbingNumRestartskn.csv\")\n",
    "\n",
    "#print out time taken\n",
    "print(\"time taken is:\")\n",
    "print(endFirst-startFirst)"
   ]
  },
  {
   "cell_type": "markdown",
   "metadata": {},
   "source": [
    "<b>Simulated Annealing</b>"
   ]
  },
  {
   "cell_type": "code",
   "execution_count": null,
   "metadata": {},
   "outputs": [],
   "source": [
    "current_best_fitness = None\n",
    "\n",
    "\n",
    "startFirst = time.time()\n",
    "bestSimulatedState, bestSimulatedFitness, iteration_data = simulated_annealing(problem_fit)\n",
    "endFirst = time.time()\n",
    "\n",
    "#save iteration data to a file    \n",
    "iteration_num, fitness = [i[0] for i in iteration_data], [i[1] for i in iteration_data]\n",
    "plotData = [('Iteration Number', iteration_num), ('Fitness', fitness)]\n",
    "df = pd.DataFrame.from_items(plotData)\n",
    "df.to_csv(\"simulatedAnnealingIterationskn.csv\")\n",
    "\n",
    "\n",
    "#print out time taken\n",
    "print(\"time taken is:\")\n",
    "print(endFirst-startFirst)"
   ]
  },
  {
   "cell_type": "markdown",
   "metadata": {},
   "source": [
    "<b>Genetic Algorithm</b>"
   ]
  },
  {
   "cell_type": "code",
   "execution_count": null,
   "metadata": {},
   "outputs": [],
   "source": [
    "current_best_fitness = None\n",
    "\n",
    "\n",
    "startFirst = time.time()\n",
    "bestGeneticState, bestGeneticFitness, iteration_data = genetic_alg(problem_fit, pop_size = 200)\n",
    "endFirst = time.time()\n",
    "\n",
    "#save iteration data to a file    \n",
    "iteration_num, fitness = [i[0] for i in iteration_data], [i[1] for i in iteration_data]\n",
    "plotData = [('Iteration Number', iteration_num), ('Fitness', fitness)]\n",
    "df = pd.DataFrame.from_items(plotData)\n",
    "df.to_csv(\"GAIterationskn.csv\")\n",
    "\n",
    "time_data = []\n",
    "#graph for population size vs time\n",
    "for popSize in range(10, 310, 10):\n",
    "    start = time.time()\n",
    "    bestGeneticPopState, bestGeneticPopFitness = mlrose.genetic_alg(problem_fit, pop_size = popSize)\n",
    "    end = time.time()\n",
    "    time_data.append((popSize, bestGeneticPopFitness, end-start))\n",
    "pop_size, fitness, times = [i[0] for i in time_data], [i[1] for i in time_data], [i[2] for i in time_data]\n",
    "plotData = [('Population Size', pop_size), ('Fitness', fitness), ('Time to Converge', times)]\n",
    "df = pd.DataFrame.from_items(plotData)\n",
    "df.to_csv(\"GAHyperParameterkn.csv\")\n",
    "    \n",
    "    \n",
    "#print out time taken\n",
    "print(\"time taken is:\")\n",
    "print(endFirst-startFirst)"
   ]
  },
  {
   "cell_type": "markdown",
   "metadata": {},
   "source": [
    "<b>Mimic</b>"
   ]
  },
  {
   "cell_type": "code",
   "execution_count": null,
   "metadata": {
    "scrolled": true
   },
   "outputs": [],
   "source": [
    "current_best_fitness = None\n",
    "\n",
    "\n",
    "start = time.time()\n",
    "bestSimulatedState, bestSimulatedFitness, iteration_data = mimic(problem_fit, max_iters = 30)\n",
    "end = time.time()\n",
    "\n",
    "#save iteration data to a file    \n",
    "iteration_num, fitness = [i[0] for i in iteration_data], [i[1] for i in iteration_data]\n",
    "plotData = [('Iteration Number', iteration_num), ('Fitness', fitness)]\n",
    "df = pd.DataFrame.from_items(plotData)\n",
    "df.to_csv(\"mimicIterationskn.csv\")\n",
    "\n",
    "#print out time taken\n",
    "print(\"time taken is:\")\n",
    "print(end-start)"
   ]
  },
  {
   "cell_type": "markdown",
   "metadata": {},
   "source": [
    "# N-Queens"
   ]
  },
  {
   "cell_type": "code",
   "execution_count": 6,
   "metadata": {},
   "outputs": [],
   "source": [
    "# Define alternative N-Queens fitness function for maximization problem\n",
    "def queens_max(state):\n",
    "\n",
    "   # Initialize counter\n",
    "    fitness_cnt = 0\n",
    "      # For all pairs of queens\n",
    "    for i in range(len(state) - 1):\n",
    "        for j in range(i + 1, len(state)):\n",
    "\n",
    "            # Check for horizontal, diagonal-up and diagonal-down attacks\n",
    "            if (state[j] != state[i]) \\\n",
    "                and (state[j] != state[i] + (j - i)) \\\n",
    "                and (state[j] != state[i] - (j - i)):\n",
    "\n",
    "               # If no attacks, then increment counter\n",
    "               fitness_cnt += 1\n",
    "\n",
    "    return fitness_cnt"
   ]
  },
  {
   "cell_type": "code",
   "execution_count": 7,
   "metadata": {},
   "outputs": [],
   "source": [
    "#defining the fitness function\n",
    "fitness_func = mlrose.CustomFitness(queens_max)\n",
    "\n",
    "#define the problem\n",
    "problem_fit = mlrose.DiscreteOpt(120, fitness_fn = fitness_func, maximize = True, max_val = 120)"
   ]
  },
  {
   "cell_type": "markdown",
   "metadata": {},
   "source": [
    "<b>Random Hill Climb</b>"
   ]
  },
  {
   "cell_type": "code",
   "execution_count": 14,
   "metadata": {},
   "outputs": [
    {
     "name": "stdout",
     "output_type": "stream",
     "text": [
      "time taken is:\n",
      "79.21764135360718\n"
     ]
    }
   ],
   "source": [
    "#generate iteration graph\n",
    "\n",
    "current_best_fitness = None\n",
    "\n",
    "\n",
    "startFirst = time.time()\n",
    "bestHillState, bestHillFitness, iteration_data = random_hill_climb(problem_fit, restarts = 20, max_attempts = 30)\n",
    "endFirst = time.time()\n",
    "\n",
    "#save iteration data to a file    \n",
    "iteration_num, fitness = [i[0] for i in iteration_data], [i[1] for i in iteration_data]\n",
    "plotData = [('Iteration Number', iteration_num), ('Fitness', fitness)]\n",
    "df = pd.DataFrame.from_items(plotData)\n",
    "df.to_csv(\"hillClimbingIterationsQ.csv\")\n",
    "\n",
    "\n",
    "#generate numrestarts hyperparameter graph\n",
    "restart_data = []\n",
    "for num_restarts in range (0, 21):\n",
    "    new_state, new_fitness = mlrose.random_hill_climb(problem_fit, restarts = num_restarts)\n",
    "    restart_data.append((num_restarts, new_fitness))\n",
    "#save hyperparameter data to a file    \n",
    "num_restarts, fitness = [i[0] for i in restart_data], [i[1] for i in restart_data]\n",
    "plotData = [('Number of Restarts', num_restarts), ('Fitness', fitness)]\n",
    "df = pd.DataFrame.from_items(plotData)\n",
    "df.to_csv(\"hillClimbingNumRestartsQ.csv\")\n",
    "\n",
    "#print out time taken\n",
    "print(\"time taken is:\")\n",
    "print(endFirst-startFirst)"
   ]
  },
  {
   "cell_type": "markdown",
   "metadata": {},
   "source": [
    "<b>Simulated Annealing</b>"
   ]
  },
  {
   "cell_type": "code",
   "execution_count": 12,
   "metadata": {},
   "outputs": [
    {
     "name": "stderr",
     "output_type": "stream",
     "text": [
      "C:\\ProgramData\\Anaconda3\\lib\\site-packages\\ipykernel_launcher.py:66: RuntimeWarning: overflow encountered in exp\n"
     ]
    },
    {
     "name": "stdout",
     "output_type": "stream",
     "text": [
      "time taken is:\n",
      "11.94499397277832\n"
     ]
    }
   ],
   "source": [
    "current_best_fitness = None\n",
    "\n",
    "\n",
    "startFirst = time.time()\n",
    "bestSimulatedState, bestSimulatedFitness, iteration_data = simulated_annealing(problem_fit, max_attempts = 30)\n",
    "endFirst = time.time()\n",
    "\n",
    "#save iteration data to a file    \n",
    "iteration_num, fitness = [i[0] for i in iteration_data], [i[1] for i in iteration_data]\n",
    "plotData = [('Iteration Number', iteration_num), ('Fitness', fitness)]\n",
    "df = pd.DataFrame.from_items(plotData)\n",
    "df.to_csv(\"simulatedAnnealingIterationsQ.csv\")\n",
    "\n",
    "\n",
    "#print out time taken\n",
    "print(\"time taken is:\")\n",
    "print(endFirst-startFirst)"
   ]
  },
  {
   "cell_type": "markdown",
   "metadata": {},
   "source": [
    "<b>Genetic Algorithm</b>"
   ]
  },
  {
   "cell_type": "code",
   "execution_count": 13,
   "metadata": {},
   "outputs": [
    {
     "ename": "KeyboardInterrupt",
     "evalue": "",
     "output_type": "error",
     "traceback": [
      "\u001b[1;31m---------------------------------------------------------------------------\u001b[0m",
      "\u001b[1;31mKeyboardInterrupt\u001b[0m                         Traceback (most recent call last)",
      "\u001b[1;32m<ipython-input-13-8ea1acb267ba>\u001b[0m in \u001b[0;36m<module>\u001b[1;34m()\u001b[0m\n\u001b[0;32m     16\u001b[0m \u001b[1;32mfor\u001b[0m \u001b[0mpopSize\u001b[0m \u001b[1;32min\u001b[0m \u001b[0mrange\u001b[0m\u001b[1;33m(\u001b[0m\u001b[1;36m10\u001b[0m\u001b[1;33m,\u001b[0m \u001b[1;36m310\u001b[0m\u001b[1;33m,\u001b[0m \u001b[1;36m10\u001b[0m\u001b[1;33m)\u001b[0m\u001b[1;33m:\u001b[0m\u001b[1;33m\u001b[0m\u001b[0m\n\u001b[0;32m     17\u001b[0m     \u001b[0mstart\u001b[0m \u001b[1;33m=\u001b[0m \u001b[0mtime\u001b[0m\u001b[1;33m.\u001b[0m\u001b[0mtime\u001b[0m\u001b[1;33m(\u001b[0m\u001b[1;33m)\u001b[0m\u001b[1;33m\u001b[0m\u001b[0m\n\u001b[1;32m---> 18\u001b[1;33m     \u001b[0mbestGeneticPopState\u001b[0m\u001b[1;33m,\u001b[0m \u001b[0mbestGeneticPopFitness\u001b[0m \u001b[1;33m=\u001b[0m \u001b[0mmlrose\u001b[0m\u001b[1;33m.\u001b[0m\u001b[0mgenetic_alg\u001b[0m\u001b[1;33m(\u001b[0m\u001b[0mproblem_fit\u001b[0m\u001b[1;33m,\u001b[0m \u001b[0mpop_size\u001b[0m \u001b[1;33m=\u001b[0m \u001b[0mpopSize\u001b[0m\u001b[1;33m)\u001b[0m\u001b[1;33m\u001b[0m\u001b[0m\n\u001b[0m\u001b[0;32m     19\u001b[0m     \u001b[0mend\u001b[0m \u001b[1;33m=\u001b[0m \u001b[0mtime\u001b[0m\u001b[1;33m.\u001b[0m\u001b[0mtime\u001b[0m\u001b[1;33m(\u001b[0m\u001b[1;33m)\u001b[0m\u001b[1;33m\u001b[0m\u001b[0m\n\u001b[0;32m     20\u001b[0m     \u001b[0mtime_data\u001b[0m\u001b[1;33m.\u001b[0m\u001b[0mappend\u001b[0m\u001b[1;33m(\u001b[0m\u001b[1;33m(\u001b[0m\u001b[0mpopSize\u001b[0m\u001b[1;33m,\u001b[0m \u001b[0mbestGeneticPopFitness\u001b[0m\u001b[1;33m,\u001b[0m \u001b[0mend\u001b[0m\u001b[1;33m-\u001b[0m\u001b[0mstart\u001b[0m\u001b[1;33m)\u001b[0m\u001b[1;33m)\u001b[0m\u001b[1;33m\u001b[0m\u001b[0m\n",
      "\u001b[1;32mC:\\ProgramData\\Anaconda3\\lib\\site-packages\\mlrose\\algorithms.py\u001b[0m in \u001b[0;36mgenetic_alg\u001b[1;34m(problem, pop_size, mutation_prob, max_attempts, max_iters)\u001b[0m\n\u001b[0;32m    335\u001b[0m \u001b[1;33m\u001b[0m\u001b[0m\n\u001b[0;32m    336\u001b[0m         \u001b[0mnext_gen\u001b[0m \u001b[1;33m=\u001b[0m \u001b[0mnp\u001b[0m\u001b[1;33m.\u001b[0m\u001b[0marray\u001b[0m\u001b[1;33m(\u001b[0m\u001b[0mnext_gen\u001b[0m\u001b[1;33m)\u001b[0m\u001b[1;33m\u001b[0m\u001b[0m\n\u001b[1;32m--> 337\u001b[1;33m         \u001b[0mproblem\u001b[0m\u001b[1;33m.\u001b[0m\u001b[0mset_population\u001b[0m\u001b[1;33m(\u001b[0m\u001b[0mnext_gen\u001b[0m\u001b[1;33m)\u001b[0m\u001b[1;33m\u001b[0m\u001b[0m\n\u001b[0m\u001b[0;32m    338\u001b[0m \u001b[1;33m\u001b[0m\u001b[0m\n\u001b[0;32m    339\u001b[0m         \u001b[0mnext_state\u001b[0m \u001b[1;33m=\u001b[0m \u001b[0mproblem\u001b[0m\u001b[1;33m.\u001b[0m\u001b[0mbest_child\u001b[0m\u001b[1;33m(\u001b[0m\u001b[1;33m)\u001b[0m\u001b[1;33m\u001b[0m\u001b[0m\n",
      "\u001b[1;32mC:\\ProgramData\\Anaconda3\\lib\\site-packages\\mlrose\\opt_probs.py\u001b[0m in \u001b[0;36mset_population\u001b[1;34m(self, new_population)\u001b[0m\n\u001b[0;32m    203\u001b[0m \u001b[1;33m\u001b[0m\u001b[0m\n\u001b[0;32m    204\u001b[0m         \u001b[1;32mfor\u001b[0m \u001b[0mi\u001b[0m \u001b[1;32min\u001b[0m \u001b[0mrange\u001b[0m\u001b[1;33m(\u001b[0m\u001b[0mlen\u001b[0m\u001b[1;33m(\u001b[0m\u001b[0mself\u001b[0m\u001b[1;33m.\u001b[0m\u001b[0mpopulation\u001b[0m\u001b[1;33m)\u001b[0m\u001b[1;33m)\u001b[0m\u001b[1;33m:\u001b[0m\u001b[1;33m\u001b[0m\u001b[0m\n\u001b[1;32m--> 205\u001b[1;33m             \u001b[0mfitness\u001b[0m \u001b[1;33m=\u001b[0m \u001b[0mself\u001b[0m\u001b[1;33m.\u001b[0m\u001b[0meval_fitness\u001b[0m\u001b[1;33m(\u001b[0m\u001b[0mself\u001b[0m\u001b[1;33m.\u001b[0m\u001b[0mpopulation\u001b[0m\u001b[1;33m[\u001b[0m\u001b[0mi\u001b[0m\u001b[1;33m]\u001b[0m\u001b[1;33m)\u001b[0m\u001b[1;33m\u001b[0m\u001b[0m\n\u001b[0m\u001b[0;32m    206\u001b[0m             \u001b[0mpop_fitness\u001b[0m\u001b[1;33m.\u001b[0m\u001b[0mappend\u001b[0m\u001b[1;33m(\u001b[0m\u001b[0mfitness\u001b[0m\u001b[1;33m)\u001b[0m\u001b[1;33m\u001b[0m\u001b[0m\n\u001b[0;32m    207\u001b[0m \u001b[1;33m\u001b[0m\u001b[0m\n",
      "\u001b[1;32mC:\\ProgramData\\Anaconda3\\lib\\site-packages\\mlrose\\opt_probs.py\u001b[0m in \u001b[0;36meval_fitness\u001b[1;34m(self, state)\u001b[0m\n\u001b[0;32m     96\u001b[0m             \u001b[1;32mraise\u001b[0m \u001b[0mException\u001b[0m\u001b[1;33m(\u001b[0m\u001b[1;34m\"state length must match problem length\"\u001b[0m\u001b[1;33m)\u001b[0m\u001b[1;33m\u001b[0m\u001b[0m\n\u001b[0;32m     97\u001b[0m \u001b[1;33m\u001b[0m\u001b[0m\n\u001b[1;32m---> 98\u001b[1;33m         \u001b[0mfitness\u001b[0m \u001b[1;33m=\u001b[0m \u001b[0mself\u001b[0m\u001b[1;33m.\u001b[0m\u001b[0mmaximize\u001b[0m\u001b[1;33m*\u001b[0m\u001b[0mself\u001b[0m\u001b[1;33m.\u001b[0m\u001b[0mfitness_fn\u001b[0m\u001b[1;33m.\u001b[0m\u001b[0mevaluate\u001b[0m\u001b[1;33m(\u001b[0m\u001b[0mstate\u001b[0m\u001b[1;33m)\u001b[0m\u001b[1;33m\u001b[0m\u001b[0m\n\u001b[0m\u001b[0;32m     99\u001b[0m \u001b[1;33m\u001b[0m\u001b[0m\n\u001b[0;32m    100\u001b[0m         \u001b[1;32mreturn\u001b[0m \u001b[0mfitness\u001b[0m\u001b[1;33m\u001b[0m\u001b[0m\n",
      "\u001b[1;32mC:\\ProgramData\\Anaconda3\\lib\\site-packages\\mlrose\\fitness.py\u001b[0m in \u001b[0;36mevaluate\u001b[1;34m(self, state)\u001b[0m\n\u001b[0;32m    998\u001b[0m         \"\"\"\n\u001b[0;32m    999\u001b[0m \u001b[1;33m\u001b[0m\u001b[0m\n\u001b[1;32m-> 1000\u001b[1;33m         \u001b[0mfitness\u001b[0m \u001b[1;33m=\u001b[0m \u001b[0mself\u001b[0m\u001b[1;33m.\u001b[0m\u001b[0mfitness_fn\u001b[0m\u001b[1;33m(\u001b[0m\u001b[0mstate\u001b[0m\u001b[1;33m,\u001b[0m \u001b[1;33m**\u001b[0m\u001b[0mself\u001b[0m\u001b[1;33m.\u001b[0m\u001b[0mkwargs\u001b[0m\u001b[1;33m)\u001b[0m\u001b[1;33m\u001b[0m\u001b[0m\n\u001b[0m\u001b[0;32m   1001\u001b[0m         \u001b[1;32mreturn\u001b[0m \u001b[0mfitness\u001b[0m\u001b[1;33m\u001b[0m\u001b[0m\n\u001b[0;32m   1002\u001b[0m \u001b[1;33m\u001b[0m\u001b[0m\n",
      "\u001b[1;32m<ipython-input-6-c525ccf6764c>\u001b[0m in \u001b[0;36mqueens_max\u001b[1;34m(state)\u001b[0m\n\u001b[0;32m      9\u001b[0m \u001b[1;33m\u001b[0m\u001b[0m\n\u001b[0;32m     10\u001b[0m             \u001b[1;31m# Check for horizontal, diagonal-up and diagonal-down attacks\u001b[0m\u001b[1;33m\u001b[0m\u001b[1;33m\u001b[0m\u001b[0m\n\u001b[1;32m---> 11\u001b[1;33m             \u001b[1;32mif\u001b[0m \u001b[1;33m(\u001b[0m\u001b[0mstate\u001b[0m\u001b[1;33m[\u001b[0m\u001b[0mj\u001b[0m\u001b[1;33m]\u001b[0m \u001b[1;33m!=\u001b[0m \u001b[0mstate\u001b[0m\u001b[1;33m[\u001b[0m\u001b[0mi\u001b[0m\u001b[1;33m]\u001b[0m\u001b[1;33m)\u001b[0m                 \u001b[1;32mand\u001b[0m \u001b[1;33m(\u001b[0m\u001b[0mstate\u001b[0m\u001b[1;33m[\u001b[0m\u001b[0mj\u001b[0m\u001b[1;33m]\u001b[0m \u001b[1;33m!=\u001b[0m \u001b[0mstate\u001b[0m\u001b[1;33m[\u001b[0m\u001b[0mi\u001b[0m\u001b[1;33m]\u001b[0m \u001b[1;33m+\u001b[0m \u001b[1;33m(\u001b[0m\u001b[0mj\u001b[0m \u001b[1;33m-\u001b[0m \u001b[0mi\u001b[0m\u001b[1;33m)\u001b[0m\u001b[1;33m)\u001b[0m                 \u001b[1;32mand\u001b[0m \u001b[1;33m(\u001b[0m\u001b[0mstate\u001b[0m\u001b[1;33m[\u001b[0m\u001b[0mj\u001b[0m\u001b[1;33m]\u001b[0m \u001b[1;33m!=\u001b[0m \u001b[0mstate\u001b[0m\u001b[1;33m[\u001b[0m\u001b[0mi\u001b[0m\u001b[1;33m]\u001b[0m \u001b[1;33m-\u001b[0m \u001b[1;33m(\u001b[0m\u001b[0mj\u001b[0m \u001b[1;33m-\u001b[0m \u001b[0mi\u001b[0m\u001b[1;33m)\u001b[0m\u001b[1;33m)\u001b[0m\u001b[1;33m:\u001b[0m\u001b[1;33m\u001b[0m\u001b[0m\n\u001b[0m\u001b[0;32m     12\u001b[0m \u001b[1;33m\u001b[0m\u001b[0m\n\u001b[0;32m     13\u001b[0m                \u001b[1;31m# If no attacks, then increment counter\u001b[0m\u001b[1;33m\u001b[0m\u001b[1;33m\u001b[0m\u001b[0m\n",
      "\u001b[1;31mKeyboardInterrupt\u001b[0m: "
     ]
    }
   ],
   "source": [
    "current_best_fitness = None\n",
    "\n",
    "\n",
    "startFirst = time.time()\n",
    "bestGeneticState, bestGeneticFitness, iteration_data = genetic_alg(problem_fit, max_attempts = 30, pop_size = 200)\n",
    "endFirst = time.time()\n",
    "\n",
    "#save iteration data to a file    \n",
    "iteration_num, fitness = [i[0] for i in iteration_data], [i[1] for i in iteration_data]\n",
    "plotData = [('Iteration Number', iteration_num), ('Fitness', fitness)]\n",
    "df = pd.DataFrame.from_items(plotData)\n",
    "df.to_csv(\"GAIterationsQ.csv\")\n",
    "\n",
    "time_data = []\n",
    "#graph for population size vs time\n",
    "for popSize in range(10, 310, 10):\n",
    "    start = time.time()\n",
    "    bestGeneticPopState, bestGeneticPopFitness = mlrose.genetic_alg(problem_fit, pop_size = popSize)\n",
    "    end = time.time()\n",
    "    time_data.append((popSize, bestGeneticPopFitness, end-start))\n",
    "pop_size, fitness, times = [i[0] for i in time_data], [i[1] for i in time_data], [i[2] for i in time_data]\n",
    "plotData = [('Population Size', pop_size), ('Fitness', fitness), ('Time to Converge', times)]\n",
    "df = pd.DataFrame.from_items(plotData)\n",
    "df.to_csv(\"GAHyperParameterQ.csv\")\n",
    "    \n",
    "    \n",
    "#print out time taken\n",
    "print(\"time taken is:\")\n",
    "print(endFirst-startFirst)"
   ]
  },
  {
   "cell_type": "markdown",
   "metadata": {},
   "source": [
    "<b>Mimic</b>"
   ]
  },
  {
   "cell_type": "code",
   "execution_count": 11,
   "metadata": {
    "scrolled": true
   },
   "outputs": [
    {
     "name": "stdout",
     "output_type": "stream",
     "text": [
      "time taken is:\n",
      "100.07028436660767\n"
     ]
    }
   ],
   "source": [
    "current_best_fitness = None\n",
    "\n",
    "\n",
    "start = time.time()\n",
    "bestSimulatedState, bestSimulatedFitness, iteration_data = mimic(problem_fit, max_iters = 30)\n",
    "end = time.time()\n",
    "\n",
    "#save iteration data to a file    \n",
    "iteration_num, fitness = [i[0] for i in iteration_data], [i[1] for i in iteration_data]\n",
    "plotData = [('Iteration Number', iteration_num), ('Fitness', fitness)]\n",
    "df = pd.DataFrame.from_items(plotData)\n",
    "df.to_csv(\"mimicIterationsQ.csv\")\n",
    "\n",
    "#print out time taken\n",
    "print(\"time taken is:\")\n",
    "print(end-start)"
   ]
  },
  {
   "cell_type": "markdown",
   "metadata": {},
   "source": [
    "# MaxKColoring"
   ]
  },
  {
   "cell_type": "code",
   "execution_count": 12,
   "metadata": {},
   "outputs": [],
   "source": [
    "def evaluateKMax(state, edges):\n",
    "        \"\"\"Evaluate the fitness of a state vector.\n",
    "\n",
    "        Parameters\n",
    "        ----------\n",
    "        state: array\n",
    "            State array for evaluation.\n",
    "\n",
    "        Returns\n",
    "        -------\n",
    "        fitness: float\n",
    "            Value of fitness function.\n",
    "        \"\"\"\n",
    "\n",
    "        fitness = 0\n",
    "\n",
    "        for i in range(len(edges)):\n",
    "            # Check for adjacent nodes of the same color\n",
    "            if state[edges[i][0]] != state[edges[i][1]]:\n",
    "                fitness += 1\n",
    "\n",
    "        return fitness"
   ]
  },
  {
   "cell_type": "code",
   "execution_count": 13,
   "metadata": {},
   "outputs": [],
   "source": [
    "NumNodes = 100\n",
    "K = 3\n",
    "\n",
    "numEdges = int(.3 * NumNodes * NumNodes)\n",
    "completeGraph = [(i, j) for i in range(NumNodes) for j in range(NumNodes)]\n",
    "edges = random.sample(completeGraph, numEdges)"
   ]
  },
  {
   "cell_type": "code",
   "execution_count": 14,
   "metadata": {},
   "outputs": [],
   "source": [
    "fitness_cust = mlrose.CustomFitness(evaluateKMax, problem_type = 'discrete', edges = edges)\n",
    "problem_fit = mlrose.DiscreteOpt(NumNodes, fitness_fn = fitness_cust, maximize = True, max_val = K)"
   ]
  },
  {
   "cell_type": "markdown",
   "metadata": {},
   "source": [
    "<b>Random Hill Climb</b>"
   ]
  },
  {
   "cell_type": "code",
   "execution_count": 15,
   "metadata": {},
   "outputs": [
    {
     "name": "stdout",
     "output_type": "stream",
     "text": [
      "time taken is:\n",
      "7.481658458709717\n"
     ]
    }
   ],
   "source": [
    "#generate iteration graph\n",
    "\n",
    "current_best_fitness = None\n",
    "\n",
    "\n",
    "startFirst = time.time()\n",
    "bestHillState, bestHillFitness, iteration_data = random_hill_climb(problem_fit, restarts = 50)\n",
    "endFirst = time.time()\n",
    "\n",
    "#save iteration data to a file    \n",
    "iteration_num, fitness = [i[0] for i in iteration_data], [i[1] for i in iteration_data]\n",
    "plotData = [('Iteration Number', iteration_num), ('Fitness', fitness)]\n",
    "df = pd.DataFrame.from_items(plotData)\n",
    "df.to_csv(\"hillClimbingIterationsMaxK.csv\")\n",
    "\n",
    "\n",
    "#generate numrestarts hyperparameter graph\n",
    "restart_data = []\n",
    "for num_restarts in range (0, 51):\n",
    "    new_state, new_fitness = mlrose.random_hill_climb(problem_fit, restarts = num_restarts)\n",
    "    restart_data.append((num_restarts, new_fitness))\n",
    "#save hyperparameter data to a file    \n",
    "num_restarts, fitness = [i[0] for i in restart_data], [i[1] for i in restart_data]\n",
    "plotData = [('Number of Restarts', num_restarts), ('Fitness', fitness)]\n",
    "df = pd.DataFrame.from_items(plotData)\n",
    "df.to_csv(\"hillClimbingNumRestartsMaxK.csv\")\n",
    "\n",
    "#print out time taken\n",
    "print(\"time taken is:\")\n",
    "print(endFirst-startFirst)"
   ]
  },
  {
   "cell_type": "markdown",
   "metadata": {},
   "source": [
    "<b>Simulated Annealing</b>"
   ]
  },
  {
   "cell_type": "code",
   "execution_count": 16,
   "metadata": {},
   "outputs": [
    {
     "name": "stdout",
     "output_type": "stream",
     "text": [
      "time taken is:\n",
      "0.3621673583984375\n"
     ]
    }
   ],
   "source": [
    "current_best_fitness = None\n",
    "\n",
    "\n",
    "startFirst = time.time()\n",
    "bestSimulatedState, bestSimulatedFitness, iteration_data = simulated_annealing(problem_fit)\n",
    "endFirst = time.time()\n",
    "\n",
    "#save iteration data to a file    \n",
    "iteration_num, fitness = [i[0] for i in iteration_data], [i[1] for i in iteration_data]\n",
    "plotData = [('Iteration Number', iteration_num), ('Fitness', fitness)]\n",
    "df = pd.DataFrame.from_items(plotData)\n",
    "df.to_csv(\"simulatedAnnealingIterationsMaxK.csv\")\n",
    "\n",
    "\n",
    "#print out time taken\n",
    "print(\"time taken is:\")\n",
    "print(endFirst-startFirst)"
   ]
  },
  {
   "cell_type": "markdown",
   "metadata": {},
   "source": [
    "<b>Genetic Algorithm</b>"
   ]
  },
  {
   "cell_type": "code",
   "execution_count": 17,
   "metadata": {},
   "outputs": [
    {
     "name": "stdout",
     "output_type": "stream",
     "text": [
      "time taken is:\n",
      "4.133784055709839\n"
     ]
    }
   ],
   "source": [
    "current_best_fitness = None\n",
    "\n",
    "\n",
    "startFirst = time.time()\n",
    "bestGeneticState, bestGeneticFitness, iteration_data = genetic_alg(problem_fit, pop_size = 200)\n",
    "endFirst = time.time()\n",
    "\n",
    "#save iteration data to a file    \n",
    "iteration_num, fitness = [i[0] for i in iteration_data], [i[1] for i in iteration_data]\n",
    "plotData = [('Iteration Number', iteration_num), ('Fitness', fitness)]\n",
    "df = pd.DataFrame.from_items(plotData)\n",
    "df.to_csv(\"GAIterationsMaxK.csv\")\n",
    "\n",
    "time_data = []\n",
    "#graph for population size vs time\n",
    "for popSize in range(10, 310, 10):\n",
    "    start = time.time()\n",
    "    bestGeneticPopState, bestGeneticPopFitness = mlrose.genetic_alg(problem_fit, pop_size = popSize)\n",
    "    end = time.time()\n",
    "    time_data.append((popSize, bestGeneticPopFitness, end-start))\n",
    "pop_size, fitness, times = [i[0] for i in time_data], [i[1] for i in time_data], [i[2] for i in time_data]\n",
    "plotData = [('Population Size', pop_size), ('Fitness', fitness), ('Time to Converge', times)]\n",
    "df = pd.DataFrame.from_items(plotData)\n",
    "df.to_csv(\"GAHyperParameterMaxK.csv\")\n",
    "    \n",
    "    \n",
    "#print out time taken\n",
    "print(\"time taken is:\")\n",
    "print(endFirst-startFirst)"
   ]
  },
  {
   "cell_type": "markdown",
   "metadata": {},
   "source": [
    "<b>Mimic</b>"
   ]
  },
  {
   "cell_type": "code",
   "execution_count": 18,
   "metadata": {
    "scrolled": true
   },
   "outputs": [
    {
     "name": "stdout",
     "output_type": "stream",
     "text": [
      "time taken is:\n",
      "104.66429328918457\n"
     ]
    }
   ],
   "source": [
    "current_best_fitness = None\n",
    "\n",
    "\n",
    "start = time.time()\n",
    "bestSimulatedState, bestSimulatedFitness, iteration_data = mimic(problem_fit, max_iters = 30)\n",
    "end = time.time()\n",
    "\n",
    "#save iteration data to a file    \n",
    "iteration_num, fitness = [i[0] for i in iteration_data], [i[1] for i in iteration_data]\n",
    "plotData = [('Iteration Number', iteration_num), ('Fitness', fitness)]\n",
    "df = pd.DataFrame.from_items(plotData)\n",
    "df.to_csv(\"mimicIterationsMaxK.csv\")\n",
    "\n",
    "#print out time taken\n",
    "print(\"time taken is:\")\n",
    "print(end-start)"
   ]
  },
  {
   "cell_type": "code",
   "execution_count": null,
   "metadata": {},
   "outputs": [],
   "source": []
  },
  {
   "cell_type": "code",
   "execution_count": null,
   "metadata": {},
   "outputs": [],
   "source": []
  }
 ],
 "metadata": {
  "kernelspec": {
   "display_name": "Python 3",
   "language": "python",
   "name": "python3"
  },
  "language_info": {
   "codemirror_mode": {
    "name": "ipython",
    "version": 3
   },
   "file_extension": ".py",
   "mimetype": "text/x-python",
   "name": "python",
   "nbconvert_exporter": "python",
   "pygments_lexer": "ipython3",
   "version": "3.6.4"
  }
 },
 "nbformat": 4,
 "nbformat_minor": 2
}
